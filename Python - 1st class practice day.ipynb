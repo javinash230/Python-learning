{
 "cells": [
  {
   "cell_type": "markdown",
   "id": "de6dc231",
   "metadata": {},
   "source": [
    "### 1st class python"
   ]
  },
  {
   "cell_type": "code",
   "execution_count": 14,
   "id": "83b65e1a",
   "metadata": {},
   "outputs": [
    {
     "ename": "NameError",
     "evalue": "name 'Print' is not defined",
     "output_type": "error",
     "traceback": [
      "\u001b[1;31m---------------------------------------------------------------------------\u001b[0m",
      "\u001b[1;31mNameError\u001b[0m                                 Traceback (most recent call last)",
      "Input \u001b[1;32mIn [14]\u001b[0m, in \u001b[0;36m<cell line: 1>\u001b[1;34m()\u001b[0m\n\u001b[1;32m----> 1\u001b[0m \u001b[43mPrint\u001b[49m(\u001b[38;5;124m\"\u001b[39m\u001b[38;5;124mHello Neurons\u001b[39m\u001b[38;5;124m\"\u001b[39m)\n",
      "\u001b[1;31mNameError\u001b[0m: name 'Print' is not defined"
     ]
    }
   ],
   "source": [
    "Print(\"Hello Neurons\") ## Case sensitive print keyword starts from capital letter P due to this error generated"
   ]
  },
  {
   "cell_type": "code",
   "execution_count": 15,
   "id": "8f1f3ee5",
   "metadata": {},
   "outputs": [
    {
     "name": "stdout",
     "output_type": "stream",
     "text": [
      "Hello Neurons\n"
     ]
    }
   ],
   "source": [
    "print(\"Hello Neurons\")"
   ]
  },
  {
   "cell_type": "code",
   "execution_count": 16,
   "id": "85157089",
   "metadata": {},
   "outputs": [
    {
     "name": "stdout",
     "output_type": "stream",
     "text": [
      "greetings from ineuron\n"
     ]
    }
   ],
   "source": [
    "print(\"greetings from ineuron\")"
   ]
  },
  {
   "cell_type": "code",
   "execution_count": 17,
   "id": "a5909a79",
   "metadata": {},
   "outputs": [
    {
     "name": "stdout",
     "output_type": "stream",
     "text": [
      "greetings from ineuron\n",
      "good evening\n"
     ]
    }
   ],
   "source": [
    "print(\"greetings from ineuron\") ## executed\n",
    "print(\"good evening\")"
   ]
  },
  {
   "cell_type": "markdown",
   "id": "d9b5b19a",
   "metadata": {},
   "source": [
    "#### possible error can get denerated\n",
    "##1) Case sensitive error"
   ]
  },
  {
   "cell_type": "code",
   "execution_count": 18,
   "id": "09615615",
   "metadata": {},
   "outputs": [
    {
     "ename": "NameError",
     "evalue": "name 'Print' is not defined",
     "output_type": "error",
     "traceback": [
      "\u001b[1;31m---------------------------------------------------------------------------\u001b[0m",
      "\u001b[1;31mNameError\u001b[0m                                 Traceback (most recent call last)",
      "Input \u001b[1;32mIn [18]\u001b[0m, in \u001b[0;36m<cell line: 1>\u001b[1;34m()\u001b[0m\n\u001b[1;32m----> 1\u001b[0m \u001b[43mPrint\u001b[49m(\u001b[38;5;124m\"\u001b[39m\u001b[38;5;124mgood evening\u001b[39m\u001b[38;5;124m\"\u001b[39m)\n",
      "\u001b[1;31mNameError\u001b[0m: name 'Print' is not defined"
     ]
    }
   ],
   "source": [
    "Print(\"good evening\")"
   ]
  },
  {
   "cell_type": "markdown",
   "id": "fb101b9a",
   "metadata": {},
   "source": [
    "# possible error can get denerated\n",
    "##2) EOL error - End of line error generated due to syantax not completed properly"
   ]
  },
  {
   "cell_type": "code",
   "execution_count": 19,
   "id": "3f533c7b",
   "metadata": {},
   "outputs": [
    {
     "ename": "SyntaxError",
     "evalue": "EOL while scanning string literal (907803879.py, line 1)",
     "output_type": "error",
     "traceback": [
      "\u001b[1;36m  Input \u001b[1;32mIn [19]\u001b[1;36m\u001b[0m\n\u001b[1;33m    print(\"good\u001b[0m\n\u001b[1;37m                ^\u001b[0m\n\u001b[1;31mSyntaxError\u001b[0m\u001b[1;31m:\u001b[0m EOL while scanning string literal\n"
     ]
    }
   ],
   "source": [
    "print(\"good \n",
    "      evening\")"
   ]
  },
  {
   "cell_type": "markdown",
   "id": "fa63fb6c",
   "metadata": {},
   "source": [
    "# solution to avoid the EOL error\n"
   ]
  },
  {
   "cell_type": "code",
   "execution_count": 20,
   "id": "57be9e82",
   "metadata": {},
   "outputs": [
    {
     "name": "stdout",
     "output_type": "stream",
     "text": [
      "Good evening\n"
     ]
    }
   ],
   "source": [
    "print(\"\"\"Good evening\"\"\")"
   ]
  },
  {
   "cell_type": "code",
   "execution_count": 21,
   "id": "68c7b79c",
   "metadata": {},
   "outputs": [
    {
     "name": "stdout",
     "output_type": "stream",
     "text": [
      "Good\n",
      "evening\n"
     ]
    }
   ],
   "source": [
    "print(\"\"\"Good\n",
    "evening\"\"\") ## here using triple coat we resolved the error due to end of line not done as per syntax requirement"
   ]
  },
  {
   "cell_type": "code",
   "execution_count": 22,
   "id": "e655e485",
   "metadata": {},
   "outputs": [
    {
     "name": "stdout",
     "output_type": "stream",
     "text": [
      "India, officially the Republic of India (Hindi: Bhārat Gaṇarājya),[25] is a country in South Asia. It is the seventh-largest country by area, the second-most populous country, and the most populous democracy in the world. Bounded by the Indian Ocean on the south, the Arabian Sea on the southwest, and the Bay of Bengal on the southeast, it shares land borders with Pakistan to the west;[f] China, Nepal, and Bhutan to the north; and Bangladesh and Myanmar to the east. In the Indian Ocean, India is in the vicinity of Sri Lanka and the Maldives; its Andaman and Nicobar Islands share a maritime border with Thailand, Myanmar, and Indonesia. The nation's capital city is New Delhi.\n"
     ]
    }
   ],
   "source": [
    "print(\"\"\"India, officially the Republic of India (Hindi: Bhārat Gaṇarājya),[25] is a country in South Asia. It is the seventh-largest country by area, the second-most populous country, and the most populous democracy in the world. Bounded by the Indian Ocean on the south, the Arabian Sea on the southwest, and the Bay of Bengal on the southeast, it shares land borders with Pakistan to the west;[f] China, Nepal, and Bhutan to the north; and Bangladesh and Myanmar to the east. In the Indian Ocean, India is in the vicinity of Sri Lanka and the Maldives; its Andaman and Nicobar Islands share a maritime border with Thailand, Myanmar, and Indonesia. The nation's capital city is New Delhi.\"\"\")"
   ]
  },
  {
   "cell_type": "markdown",
   "id": "8e1dda65",
   "metadata": {},
   "source": [
    "# multiline comment"
   ]
  },
  {
   "cell_type": "code",
   "execution_count": 24,
   "id": "a6cde366",
   "metadata": {},
   "outputs": [
    {
     "name": "stdout",
     "output_type": "stream",
     "text": [
      "hi students\n"
     ]
    }
   ],
   "source": [
    "\"\"\"say\n",
    "hi\n",
    "to the\n",
    "students\"\"\"\n",
    "print('hi students')"
   ]
  },
  {
   "cell_type": "markdown",
   "id": "2f76388e",
   "metadata": {},
   "source": [
    "# more exceptional case in print statement"
   ]
  },
  {
   "cell_type": "code",
   "execution_count": 25,
   "id": "e256fd60",
   "metadata": {},
   "outputs": [
    {
     "name": "stdout",
     "output_type": "stream",
     "text": [
      "Hi my name is 'avinash'\n"
     ]
    }
   ],
   "source": [
    "print(\"Hi my name is 'avinash'\")"
   ]
  },
  {
   "cell_type": "code",
   "execution_count": 30,
   "id": "ff815cfd",
   "metadata": {},
   "outputs": [
    {
     "name": "stdout",
     "output_type": "stream",
     "text": [
      "Hi my name is 'avinash'!\n"
     ]
    }
   ],
   "source": [
    "print(\"Hi my name is 'avinash'!\") ## hi"
   ]
  },
  {
   "cell_type": "code",
   "execution_count": 31,
   "id": "b7357fc3",
   "metadata": {},
   "outputs": [
    {
     "ename": "SyntaxError",
     "evalue": "invalid syntax (4039486276.py, line 1)",
     "output_type": "error",
     "traceback": [
      "\u001b[1;36m  Input \u001b[1;32mIn [31]\u001b[1;36m\u001b[0m\n\u001b[1;33m    print(\"Hi my name is \"avinash\"\") ## for resolving error above methods can be used to print the name\u001b[0m\n\u001b[1;37m                          ^\u001b[0m\n\u001b[1;31mSyntaxError\u001b[0m\u001b[1;31m:\u001b[0m invalid syntax\n"
     ]
    }
   ],
   "source": [
    "print(\"Hi my name is \"avinash\"\") ## for resolving error above methods can be used to print the name"
   ]
  },
  {
   "cell_type": "markdown",
   "id": "9e8139b6",
   "metadata": {},
   "source": [
    "# working as calculator"
   ]
  },
  {
   "cell_type": "code",
   "execution_count": 40,
   "id": "39bac5f4",
   "metadata": {},
   "outputs": [
    {
     "data": {
      "text/plain": [
       "368"
      ]
     },
     "execution_count": 40,
     "metadata": {},
     "output_type": "execute_result"
    }
   ],
   "source": [
    "123 + 245 #Addition can be performed"
   ]
  },
  {
   "cell_type": "code",
   "execution_count": 41,
   "id": "8139b144",
   "metadata": {},
   "outputs": [
    {
     "data": {
      "text/plain": [
       "30135"
      ]
     },
     "execution_count": 41,
     "metadata": {},
     "output_type": "execute_result"
    }
   ],
   "source": [
    "123*245 #Multiplication can be done"
   ]
  },
  {
   "cell_type": "code",
   "execution_count": 42,
   "id": "51e78b87",
   "metadata": {},
   "outputs": [
    {
     "data": {
      "text/plain": [
       "0.5020408163265306"
      ]
     },
     "execution_count": 42,
     "metadata": {},
     "output_type": "execute_result"
    }
   ],
   "source": [
    "123/245 #division can be done"
   ]
  },
  {
   "cell_type": "code",
   "execution_count": 43,
   "id": "bf2145d8",
   "metadata": {},
   "outputs": [
    {
     "data": {
      "text/plain": [
       "15129"
      ]
     },
     "execution_count": 43,
     "metadata": {},
     "output_type": "execute_result"
    }
   ],
   "source": [
    "123**2 #for using power anything need to use double  star before 2"
   ]
  },
  {
   "cell_type": "code",
   "execution_count": 45,
   "id": "b6a69302",
   "metadata": {},
   "outputs": [
    {
     "ename": "SyntaxError",
     "evalue": "invalid syntax (873805555.py, line 1)",
     "output_type": "error",
     "traceback": [
      "\u001b[1;36m  Input \u001b[1;32mIn [45]\u001b[1;36m\u001b[0m\n\u001b[1;33m    123***3 # cube is same as power but used wrong - here triple star used which is NG\u001b[0m\n\u001b[1;37m         ^\u001b[0m\n\u001b[1;31mSyntaxError\u001b[0m\u001b[1;31m:\u001b[0m invalid syntax\n"
     ]
    }
   ],
   "source": [
    "123***3 # cube is same as power but used wrong - here triple star used which is NG"
   ]
  },
  {
   "cell_type": "code",
   "execution_count": 46,
   "id": "2f67e7e2",
   "metadata": {},
   "outputs": [
    {
     "data": {
      "text/plain": [
       "1860867"
      ]
     },
     "execution_count": 46,
     "metadata": {},
     "output_type": "execute_result"
    }
   ],
   "source": [
    "123**3 # cube is also same concept as used in square power"
   ]
  },
  {
   "cell_type": "code",
   "execution_count": 38,
   "id": "32b7cb9d",
   "metadata": {},
   "outputs": [
    {
     "data": {
      "text/plain": [
       "228886641"
      ]
     },
     "execution_count": 38,
     "metadata": {},
     "output_type": "execute_result"
    }
   ],
   "source": [
    "123**4"
   ]
  },
  {
   "cell_type": "code",
   "execution_count": 47,
   "id": "e81c0aa7",
   "metadata": {},
   "outputs": [
    {
     "data": {
      "text/plain": [
       "1"
      ]
     },
     "execution_count": 47,
     "metadata": {},
     "output_type": "execute_result"
    }
   ],
   "source": [
    "123%2 # Act as reminder - or required reminder by dividing 123 with 2 then can use % like this = called as module operator"
   ]
  },
  {
   "cell_type": "code",
   "execution_count": 49,
   "id": "6d5238c7",
   "metadata": {},
   "outputs": [
    {
     "data": {
      "text/plain": [
       "15129"
      ]
     },
     "execution_count": 49,
     "metadata": {},
     "output_type": "execute_result"
    }
   ],
   "source": [
    "(-123)**2 #power of -ve number"
   ]
  },
  {
   "cell_type": "markdown",
   "id": "383c8ee8",
   "metadata": {},
   "source": [
    "123**(-2)"
   ]
  },
  {
   "cell_type": "code",
   "execution_count": 50,
   "id": "50b81bec",
   "metadata": {},
   "outputs": [
    {
     "data": {
      "text/plain": [
       "6.609822195782933e-05"
      ]
     },
     "execution_count": 50,
     "metadata": {},
     "output_type": "execute_result"
    }
   ],
   "source": [
    "123**(-2) #-ve power calculation"
   ]
  },
  {
   "cell_type": "code",
   "execution_count": 51,
   "id": "9f0187e8",
   "metadata": {},
   "outputs": [
    {
     "data": {
      "text/plain": [
       "0.008130081300813009"
      ]
     },
     "execution_count": 51,
     "metadata": {},
     "output_type": "execute_result"
    }
   ],
   "source": [
    "123**(-1)"
   ]
  },
  {
   "cell_type": "code",
   "execution_count": 52,
   "id": "4f9d7486",
   "metadata": {},
   "outputs": [
    {
     "data": {
      "text/plain": [
       "11.090536506409418"
      ]
     },
     "execution_count": 52,
     "metadata": {},
     "output_type": "execute_result"
    }
   ],
   "source": [
    "123**(1/2) # suqare root  can be find"
   ]
  },
  {
   "cell_type": "code",
   "execution_count": 53,
   "id": "34d1fc4e",
   "metadata": {},
   "outputs": [
    {
     "data": {
      "text/plain": [
       "4.97318983326859"
      ]
     },
     "execution_count": 53,
     "metadata": {},
     "output_type": "execute_result"
    }
   ],
   "source": [
    "123**(1/3) # cube root  can be find"
   ]
  },
  {
   "cell_type": "code",
   "execution_count": 54,
   "id": "dbf918fd",
   "metadata": {},
   "outputs": [
    {
     "name": "stdout",
     "output_type": "stream",
     "text": [
      "228886641\n"
     ]
    }
   ],
   "source": [
    "print(123**4)"
   ]
  },
  {
   "cell_type": "code",
   "execution_count": 55,
   "id": "eb473a65",
   "metadata": {},
   "outputs": [
    {
     "name": "stdout",
     "output_type": "stream",
     "text": [
      "228886641\n"
     ]
    },
    {
     "ename": "NameError",
     "evalue": "name 'Result' is not defined",
     "output_type": "error",
     "traceback": [
      "\u001b[1;31m---------------------------------------------------------------------------\u001b[0m",
      "\u001b[1;31mNameError\u001b[0m                                 Traceback (most recent call last)",
      "Input \u001b[1;32mIn [55]\u001b[0m, in \u001b[0;36m<cell line: 2>\u001b[1;34m()\u001b[0m\n\u001b[0;32m      1\u001b[0m \u001b[38;5;28mprint\u001b[39m(\u001b[38;5;241m123\u001b[39m\u001b[38;5;241m*\u001b[39m\u001b[38;5;241m*\u001b[39m\u001b[38;5;241m4\u001b[39m)\n\u001b[1;32m----> 2\u001b[0m \u001b[38;5;28mprint\u001b[39m(\u001b[43mResult\u001b[49m)\n",
      "\u001b[1;31mNameError\u001b[0m: name 'Result' is not defined"
     ]
    }
   ],
   "source": [
    "print(123**4)\n",
    "print(Result)"
   ]
  },
  {
   "cell_type": "code",
   "execution_count": 56,
   "id": "d93e470e",
   "metadata": {},
   "outputs": [
    {
     "name": "stdout",
     "output_type": "stream",
     "text": [
      "228886641\n",
      "Result\n"
     ]
    }
   ],
   "source": [
    "print(123**4)\n",
    "print(\"Result\")"
   ]
  },
  {
   "cell_type": "code",
   "execution_count": 57,
   "id": "b67297cd",
   "metadata": {},
   "outputs": [
    {
     "name": "stdout",
     "output_type": "stream",
     "text": [
      "123**4\n",
      "Result\n"
     ]
    }
   ],
   "source": [
    "print(\"123**4\")\n",
    "print(\"Result\")"
   ]
  },
  {
   "cell_type": "markdown",
   "id": "53ba8d9d",
   "metadata": {},
   "source": [
    "# Variables in Python"
   ]
  },
  {
   "cell_type": "code",
   "execution_count": 58,
   "id": "d0f8c456",
   "metadata": {},
   "outputs": [],
   "source": [
    "# alphabate carrying some values"
   ]
  },
  {
   "cell_type": "code",
   "execution_count": 59,
   "id": "661595d5",
   "metadata": {},
   "outputs": [],
   "source": [
    "x=10"
   ]
  },
  {
   "cell_type": "code",
   "execution_count": 60,
   "id": "bd4a35bd",
   "metadata": {},
   "outputs": [
    {
     "name": "stdout",
     "output_type": "stream",
     "text": [
      "10\n"
     ]
    }
   ],
   "source": [
    "print(x)"
   ]
  },
  {
   "cell_type": "code",
   "execution_count": 61,
   "id": "d7dfcb0a",
   "metadata": {},
   "outputs": [],
   "source": [
    "y=20"
   ]
  },
  {
   "cell_type": "code",
   "execution_count": 62,
   "id": "9cf8c1b2",
   "metadata": {},
   "outputs": [
    {
     "name": "stdout",
     "output_type": "stream",
     "text": [
      "20\n"
     ]
    }
   ],
   "source": [
    "print(y)"
   ]
  },
  {
   "cell_type": "code",
   "execution_count": 63,
   "id": "4aea2077",
   "metadata": {},
   "outputs": [
    {
     "name": "stdout",
     "output_type": "stream",
     "text": [
      "30\n"
     ]
    }
   ],
   "source": [
    "print(x+y)"
   ]
  },
  {
   "cell_type": "code",
   "execution_count": 64,
   "id": "4065fd12",
   "metadata": {},
   "outputs": [
    {
     "name": "stdout",
     "output_type": "stream",
     "text": [
      "0.5\n"
     ]
    }
   ],
   "source": [
    "print(x/y)"
   ]
  },
  {
   "cell_type": "code",
   "execution_count": 65,
   "id": "bc747697",
   "metadata": {},
   "outputs": [
    {
     "name": "stdout",
     "output_type": "stream",
     "text": [
      "100000000000000000000\n"
     ]
    }
   ],
   "source": [
    "print(x**y)"
   ]
  },
  {
   "cell_type": "markdown",
   "id": "73b9c3af",
   "metadata": {},
   "source": [
    "# convention for variable in python"
   ]
  },
  {
   "cell_type": "code",
   "execution_count": 66,
   "id": "10bf6f5f",
   "metadata": {},
   "outputs": [],
   "source": [
    "##1) Variable name should start with alphabate\n",
    "#2) variabe name should not contain any special character like ^ % $ ! @ # < > * ( ) etc.\n",
    "#3) Variable name can contain numbers but can not start with numbers\n",
    "#4) Variable can not start with capital letter but it will not get error as in python starting with capital number signifies class"
   ]
  },
  {
   "cell_type": "markdown",
   "id": "5d457ea1",
   "metadata": {},
   "source": [
    "##1) Variable name should start with alphabate"
   ]
  },
  {
   "cell_type": "code",
   "execution_count": 67,
   "id": "ecabd2b6",
   "metadata": {},
   "outputs": [],
   "source": [
    "a=23"
   ]
  },
  {
   "cell_type": "code",
   "execution_count": 68,
   "id": "75d59905",
   "metadata": {},
   "outputs": [],
   "source": [
    "ten = 10"
   ]
  },
  {
   "cell_type": "code",
   "execution_count": 69,
   "id": "a4a2a633",
   "metadata": {},
   "outputs": [
    {
     "ename": "SyntaxError",
     "evalue": "invalid syntax (4236544117.py, line 1)",
     "output_type": "error",
     "traceback": [
      "\u001b[1;36m  Input \u001b[1;32mIn [69]\u001b[1;36m\u001b[0m\n\u001b[1;33m    ten number =12\u001b[0m\n\u001b[1;37m        ^\u001b[0m\n\u001b[1;31mSyntaxError\u001b[0m\u001b[1;31m:\u001b[0m invalid syntax\n"
     ]
    }
   ],
   "source": [
    "ten number =12 # space between varible name not allowed due to error generated"
   ]
  },
  {
   "cell_type": "code",
   "execution_count": 70,
   "id": "a8df35ee",
   "metadata": {},
   "outputs": [],
   "source": [
    "ten_number=12"
   ]
  },
  {
   "cell_type": "code",
   "execution_count": 71,
   "id": "de247362",
   "metadata": {},
   "outputs": [],
   "source": [
    "tenNumber=13"
   ]
  },
  {
   "cell_type": "code",
   "execution_count": 72,
   "id": "d0c3d662",
   "metadata": {},
   "outputs": [
    {
     "data": {
      "text/plain": [
       "58"
      ]
     },
     "execution_count": 72,
     "metadata": {},
     "output_type": "execute_result"
    }
   ],
   "source": [
    "a+ten+ten_number+tenNumber"
   ]
  },
  {
   "cell_type": "markdown",
   "id": "01aec074",
   "metadata": {},
   "source": [
    "#2) variabe name should not contain any special character like ^ % $ ! @ # < > * ( ) etc."
   ]
  },
  {
   "cell_type": "code",
   "execution_count": 73,
   "id": "5c23bf0f",
   "metadata": {},
   "outputs": [
    {
     "ename": "SyntaxError",
     "evalue": "cannot assign to operator (671081573.py, line 1)",
     "output_type": "error",
     "traceback": [
      "\u001b[1;36m  Input \u001b[1;32mIn [73]\u001b[1;36m\u001b[0m\n\u001b[1;33m    ten%number=20\u001b[0m\n\u001b[1;37m    ^\u001b[0m\n\u001b[1;31mSyntaxError\u001b[0m\u001b[1;31m:\u001b[0m cannot assign to operator\n"
     ]
    }
   ],
   "source": [
    "ten%number=20 # error generated due to use of % as special character"
   ]
  },
  {
   "cell_type": "markdown",
   "id": "89029ca1",
   "metadata": {},
   "source": [
    "#3) Variable name can contain numbers but can not start with numbers"
   ]
  },
  {
   "cell_type": "code",
   "execution_count": 74,
   "id": "8b970f15",
   "metadata": {},
   "outputs": [],
   "source": [
    "ten10=1"
   ]
  },
  {
   "cell_type": "code",
   "execution_count": 75,
   "id": "3e03a72b",
   "metadata": {},
   "outputs": [
    {
     "name": "stdout",
     "output_type": "stream",
     "text": [
      "1\n"
     ]
    }
   ],
   "source": [
    "print(ten10)"
   ]
  },
  {
   "cell_type": "code",
   "execution_count": 77,
   "id": "79fdd594",
   "metadata": {},
   "outputs": [
    {
     "ename": "SyntaxError",
     "evalue": "invalid syntax (1128323352.py, line 1)",
     "output_type": "error",
     "traceback": [
      "\u001b[1;36m  Input \u001b[1;32mIn [77]\u001b[1;36m\u001b[0m\n\u001b[1;33m    10ten=5 #number can not be in the start of variable assigning\u001b[0m\n\u001b[1;37m      ^\u001b[0m\n\u001b[1;31mSyntaxError\u001b[0m\u001b[1;31m:\u001b[0m invalid syntax\n"
     ]
    }
   ],
   "source": [
    "10ten=5 #number can not be in the start of variable assigning"
   ]
  },
  {
   "cell_type": "code",
   "execution_count": 87,
   "id": "2e1b9bda",
   "metadata": {},
   "outputs": [],
   "source": [
    "_num=10 # Hidden varible :- which ever variable will start with the underscore symobol it will be termed as hidden variable = varible which you dont want user to see it."
   ]
  },
  {
   "cell_type": "code",
   "execution_count": 84,
   "id": "de526a07",
   "metadata": {},
   "outputs": [
    {
     "name": "stdout",
     "output_type": "stream",
     "text": [
      "10\n"
     ]
    }
   ],
   "source": [
    "print(_num)"
   ]
  },
  {
   "cell_type": "markdown",
   "id": "9f636ee5",
   "metadata": {},
   "source": [
    "#4) Variable can not start with capital letter but it will not get error as in python starting with capital number \n",
    "used for defining class due to this not recomended"
   ]
  },
  {
   "cell_type": "code",
   "execution_count": 88,
   "id": "6fab221c",
   "metadata": {},
   "outputs": [],
   "source": [
    "Ten=10"
   ]
  },
  {
   "cell_type": "code",
   "execution_count": 89,
   "id": "962fe068",
   "metadata": {},
   "outputs": [
    {
     "name": "stdout",
     "output_type": "stream",
     "text": [
      "10\n"
     ]
    }
   ],
   "source": [
    "print(Ten)"
   ]
  },
  {
   "cell_type": "markdown",
   "id": "ee6ebe53",
   "metadata": {},
   "source": [
    "# Fundamental of data types"
   ]
  },
  {
   "cell_type": "markdown",
   "id": "a7403494",
   "metadata": {},
   "source": [
    "# 1. integers"
   ]
  },
  {
   "cell_type": "code",
   "execution_count": 90,
   "id": "b3da4fd9",
   "metadata": {},
   "outputs": [],
   "source": [
    "a=10"
   ]
  },
  {
   "cell_type": "code",
   "execution_count": 91,
   "id": "9ebdf2cc",
   "metadata": {},
   "outputs": [
    {
     "data": {
      "text/plain": [
       "int"
      ]
     },
     "execution_count": 91,
     "metadata": {},
     "output_type": "execute_result"
    }
   ],
   "source": [
    "type(a)"
   ]
  },
  {
   "cell_type": "code",
   "execution_count": 92,
   "id": "fecd4ca1",
   "metadata": {},
   "outputs": [],
   "source": [
    "b=777777"
   ]
  },
  {
   "cell_type": "code",
   "execution_count": 93,
   "id": "2be06916",
   "metadata": {},
   "outputs": [
    {
     "data": {
      "text/plain": [
       "int"
      ]
     },
     "execution_count": 93,
     "metadata": {},
     "output_type": "execute_result"
    }
   ],
   "source": [
    "type(b)"
   ]
  },
  {
   "cell_type": "code",
   "execution_count": 94,
   "id": "e58204ca",
   "metadata": {},
   "outputs": [
    {
     "data": {
      "text/plain": [
       "int"
      ]
     },
     "execution_count": 94,
     "metadata": {},
     "output_type": "execute_result"
    }
   ],
   "source": [
    "c=30\n",
    "type(c)"
   ]
  },
  {
   "cell_type": "markdown",
   "id": "2983fcd7",
   "metadata": {},
   "source": [
    "# 2. Float:- numbers containing decimals"
   ]
  },
  {
   "cell_type": "code",
   "execution_count": 95,
   "id": "71943a95",
   "metadata": {},
   "outputs": [],
   "source": [
    "x=2.1"
   ]
  },
  {
   "cell_type": "code",
   "execution_count": 96,
   "id": "a9d1b843",
   "metadata": {},
   "outputs": [
    {
     "data": {
      "text/plain": [
       "float"
      ]
     },
     "execution_count": 96,
     "metadata": {},
     "output_type": "execute_result"
    }
   ],
   "source": [
    "type(x)"
   ]
  },
  {
   "cell_type": "code",
   "execution_count": 103,
   "id": "48364ddd",
   "metadata": {},
   "outputs": [],
   "source": [
    "y=2.0"
   ]
  },
  {
   "cell_type": "code",
   "execution_count": 1,
   "id": "e6cf74b8",
   "metadata": {},
   "outputs": [
    {
     "ename": "NameError",
     "evalue": "name 'y' is not defined",
     "output_type": "error",
     "traceback": [
      "\u001b[1;31m---------------------------------------------------------------------------\u001b[0m",
      "\u001b[1;31mNameError\u001b[0m                                 Traceback (most recent call last)",
      "Input \u001b[1;32mIn [1]\u001b[0m, in \u001b[0;36m<cell line: 1>\u001b[1;34m()\u001b[0m\n\u001b[1;32m----> 1\u001b[0m \u001b[38;5;28mtype\u001b[39m(\u001b[43my\u001b[49m)\n",
      "\u001b[1;31mNameError\u001b[0m: name 'y' is not defined"
     ]
    }
   ],
   "source": [
    "ttype(y)"
   ]
  },
  {
   "cell_type": "code",
   "execution_count": 100,
   "id": "d1c7d0cd",
   "metadata": {},
   "outputs": [
    {
     "ename": "TypeError",
     "evalue": "'float' object is not callable",
     "output_type": "error",
     "traceback": [
      "\u001b[1;31m---------------------------------------------------------------------------\u001b[0m",
      "\u001b[1;31mTypeError\u001b[0m                                 Traceback (most recent call last)",
      "Input \u001b[1;32mIn [100]\u001b[0m, in \u001b[0;36m<cell line: 1>\u001b[1;34m()\u001b[0m\n\u001b[1;32m----> 1\u001b[0m \u001b[38;5;28;43mtype\u001b[39;49m\u001b[43m(\u001b[49m\u001b[43my\u001b[49m\u001b[43m)\u001b[49m\n",
      "\u001b[1;31mTypeError\u001b[0m: 'float' object is not callable"
     ]
    }
   ],
   "source": [
    "type(y)"
   ]
  },
  {
   "cell_type": "code",
   "execution_count": 101,
   "id": "37d106f2",
   "metadata": {},
   "outputs": [],
   "source": [
    "z=3.0"
   ]
  },
  {
   "cell_type": "code",
   "execution_count": 102,
   "id": "37ae4a39",
   "metadata": {},
   "outputs": [
    {
     "ename": "TypeError",
     "evalue": "'float' object is not callable",
     "output_type": "error",
     "traceback": [
      "\u001b[1;31m---------------------------------------------------------------------------\u001b[0m",
      "\u001b[1;31mTypeError\u001b[0m                                 Traceback (most recent call last)",
      "Input \u001b[1;32mIn [102]\u001b[0m, in \u001b[0;36m<cell line: 1>\u001b[1;34m()\u001b[0m\n\u001b[1;32m----> 1\u001b[0m \u001b[38;5;28;43mtype\u001b[39;49m\u001b[43m(\u001b[49m\u001b[43mz\u001b[49m\u001b[43m)\u001b[49m\n",
      "\u001b[1;31mTypeError\u001b[0m: 'float' object is not callable"
     ]
    }
   ],
   "source": [
    "type(z)"
   ]
  },
  {
   "cell_type": "code",
   "execution_count": 2,
   "id": "298c00d0",
   "metadata": {},
   "outputs": [],
   "source": [
    "t=5.6"
   ]
  },
  {
   "cell_type": "code",
   "execution_count": 3,
   "id": "5d5bd793",
   "metadata": {},
   "outputs": [
    {
     "data": {
      "text/plain": [
       "float"
      ]
     },
     "execution_count": 3,
     "metadata": {},
     "output_type": "execute_result"
    }
   ],
   "source": [
    "type(t)"
   ]
  },
  {
   "cell_type": "code",
   "execution_count": 4,
   "id": "533476cf",
   "metadata": {},
   "outputs": [],
   "source": [
    "p=5.0"
   ]
  },
  {
   "cell_type": "code",
   "execution_count": 5,
   "id": "13802ea6",
   "metadata": {},
   "outputs": [
    {
     "data": {
      "text/plain": [
       "float"
      ]
     },
     "execution_count": 5,
     "metadata": {},
     "output_type": "execute_result"
    }
   ],
   "source": [
    "type(p)"
   ]
  },
  {
   "cell_type": "code",
   "execution_count": 6,
   "id": "508a79a5",
   "metadata": {},
   "outputs": [
    {
     "ename": "NameError",
     "evalue": "name 'pi' is not defined",
     "output_type": "error",
     "traceback": [
      "\u001b[1;31m---------------------------------------------------------------------------\u001b[0m",
      "\u001b[1;31mNameError\u001b[0m                                 Traceback (most recent call last)",
      "Input \u001b[1;32mIn [6]\u001b[0m, in \u001b[0;36m<cell line: 1>\u001b[1;34m()\u001b[0m\n\u001b[1;32m----> 1\u001b[0m \u001b[38;5;28mprint\u001b[39m(\u001b[43mpi\u001b[49m)\n",
      "\u001b[1;31mNameError\u001b[0m: name 'pi' is not defined"
     ]
    }
   ],
   "source": [
    "print(pi)"
   ]
  },
  {
   "cell_type": "code",
   "execution_count": 7,
   "id": "1f53c471",
   "metadata": {},
   "outputs": [],
   "source": [
    "pi=3.14"
   ]
  },
  {
   "cell_type": "code",
   "execution_count": 8,
   "id": "dde52818",
   "metadata": {},
   "outputs": [
    {
     "name": "stdout",
     "output_type": "stream",
     "text": [
      "3.14\n"
     ]
    }
   ],
   "source": [
    "type(pi)\n",
    "print(pi)"
   ]
  },
  {
   "cell_type": "code",
   "execution_count": 9,
   "id": "43216510",
   "metadata": {},
   "outputs": [
    {
     "data": {
      "text/plain": [
       "float"
      ]
     },
     "execution_count": 9,
     "metadata": {},
     "output_type": "execute_result"
    }
   ],
   "source": [
    "type(pi)"
   ]
  },
  {
   "cell_type": "markdown",
   "id": "4f744b2a",
   "metadata": {},
   "source": [
    "# 3. complex number :- Real number + Imagenary number (example:- 1 + 2j)"
   ]
  },
  {
   "cell_type": "code",
   "execution_count": 10,
   "id": "3b70a5d2",
   "metadata": {},
   "outputs": [],
   "source": [
    "a = 2+3j"
   ]
  },
  {
   "cell_type": "code",
   "execution_count": 11,
   "id": "6b619e84",
   "metadata": {},
   "outputs": [
    {
     "data": {
      "text/plain": [
       "complex"
      ]
     },
     "execution_count": 11,
     "metadata": {},
     "output_type": "execute_result"
    }
   ],
   "source": [
    "type(a)"
   ]
  },
  {
   "cell_type": "code",
   "execution_count": 12,
   "id": "3ed6e991",
   "metadata": {},
   "outputs": [
    {
     "data": {
      "text/plain": [
       "2.0"
      ]
     },
     "execution_count": 12,
     "metadata": {},
     "output_type": "execute_result"
    }
   ],
   "source": [
    "a.real"
   ]
  },
  {
   "cell_type": "code",
   "execution_count": 13,
   "id": "b0a9b518",
   "metadata": {},
   "outputs": [
    {
     "ename": "AttributeError",
     "evalue": "'complex' object has no attribute 'imagenary'",
     "output_type": "error",
     "traceback": [
      "\u001b[1;31m---------------------------------------------------------------------------\u001b[0m",
      "\u001b[1;31mAttributeError\u001b[0m                            Traceback (most recent call last)",
      "Input \u001b[1;32mIn [13]\u001b[0m, in \u001b[0;36m<cell line: 1>\u001b[1;34m()\u001b[0m\n\u001b[1;32m----> 1\u001b[0m \u001b[43ma\u001b[49m\u001b[38;5;241;43m.\u001b[39;49m\u001b[43mimagenary\u001b[49m\n",
      "\u001b[1;31mAttributeError\u001b[0m: 'complex' object has no attribute 'imagenary'"
     ]
    }
   ],
   "source": [
    "a.imagenary"
   ]
  },
  {
   "cell_type": "code",
   "execution_count": 14,
   "id": "daa2dd18",
   "metadata": {},
   "outputs": [
    {
     "data": {
      "text/plain": [
       "3.0"
      ]
     },
     "execution_count": 14,
     "metadata": {},
     "output_type": "execute_result"
    }
   ],
   "source": [
    "a.imag"
   ]
  },
  {
   "cell_type": "markdown",
   "id": "1f9b0462",
   "metadata": {},
   "source": [
    "# Dynamic Typing"
   ]
  },
  {
   "cell_type": "code",
   "execution_count": 17,
   "id": "e9485900",
   "metadata": {},
   "outputs": [
    {
     "name": "stdout",
     "output_type": "stream",
     "text": [
      "<class 'int'>\n",
      "<class 'float'>\n"
     ]
    }
   ],
   "source": [
    "a=22\n",
    "print(type(a))\n",
    "a=22.2\n",
    "print(type(a)) #First code run and it assigned a=22 >> given a's data type as int >> a assigned for 22.2 >> given as data type float"
   ]
  },
  {
   "cell_type": "code",
   "execution_count": 18,
   "id": "8fd99d4c",
   "metadata": {},
   "outputs": [
    {
     "name": "stdout",
     "output_type": "stream",
     "text": [
      "22.2\n"
     ]
    }
   ],
   "source": [
    "print(a) #last stored value for a is 22 due to this 22 get printed"
   ]
  },
  {
   "cell_type": "code",
   "execution_count": 19,
   "id": "3c40463b",
   "metadata": {},
   "outputs": [
    {
     "name": "stdout",
     "output_type": "stream",
     "text": [
      "<class 'int'>\n",
      "<class 'float'>\n",
      "<class 'str'>\n"
     ]
    }
   ],
   "source": [
    "a=22\n",
    "print(type(a))\n",
    "a=22.2\n",
    "print(type(a))\n",
    "a=\"avinash\"\n",
    "print(type(a))"
   ]
  },
  {
   "cell_type": "code",
   "execution_count": 20,
   "id": "5d9fee5a",
   "metadata": {},
   "outputs": [
    {
     "name": "stdout",
     "output_type": "stream",
     "text": [
      "avinash\n"
     ]
    }
   ],
   "source": [
    "print(a)"
   ]
  },
  {
   "cell_type": "markdown",
   "id": "6cda0ca8",
   "metadata": {},
   "source": [
    "# Strong typing in python"
   ]
  },
  {
   "cell_type": "code",
   "execution_count": 22,
   "id": "37ab03e8",
   "metadata": {},
   "outputs": [
    {
     "ename": "TypeError",
     "evalue": "can only concatenate str (not \"int\") to str",
     "output_type": "error",
     "traceback": [
      "\u001b[1;31m---------------------------------------------------------------------------\u001b[0m",
      "\u001b[1;31mTypeError\u001b[0m                                 Traceback (most recent call last)",
      "Input \u001b[1;32mIn [22]\u001b[0m, in \u001b[0;36m<cell line: 1>\u001b[1;34m()\u001b[0m\n\u001b[1;32m----> 1\u001b[0m \u001b[38;5;124;43m\"\u001b[39;49m\u001b[38;5;124;43mday\u001b[39;49m\u001b[38;5;124;43m\"\u001b[39;49m\u001b[43m \u001b[49m\u001b[38;5;241;43m+\u001b[39;49m\u001b[43m \u001b[49m\u001b[38;5;241;43m1\u001b[39;49m\n",
      "\u001b[1;31mTypeError\u001b[0m: can only concatenate str (not \"int\") to str"
     ]
    }
   ],
   "source": [
    "\"day\" + 1 #differnt data type can not do concatination process"
   ]
  },
  {
   "cell_type": "code",
   "execution_count": 24,
   "id": "6660bea2",
   "metadata": {},
   "outputs": [
    {
     "data": {
      "text/plain": [
       "'day1'"
      ]
     },
     "execution_count": 24,
     "metadata": {},
     "output_type": "execute_result"
    }
   ],
   "source": [
    "\"day\" + \"1\" # converted 1 as stings data type now can be added"
   ]
  },
  {
   "cell_type": "code",
   "execution_count": 25,
   "id": "de2ff448",
   "metadata": {},
   "outputs": [
    {
     "data": {
      "text/plain": [
       "44"
      ]
     },
     "execution_count": 25,
     "metadata": {},
     "output_type": "execute_result"
    }
   ],
   "source": [
    "22+22"
   ]
  },
  {
   "cell_type": "code",
   "execution_count": 26,
   "id": "1808a0ac",
   "metadata": {},
   "outputs": [
    {
     "data": {
      "text/plain": [
       "'2222'"
      ]
     },
     "execution_count": 26,
     "metadata": {},
     "output_type": "execute_result"
    }
   ],
   "source": [
    "\"22\" + \"22\""
   ]
  },
  {
   "cell_type": "code",
   "execution_count": 27,
   "id": "1c2d9b82",
   "metadata": {},
   "outputs": [
    {
     "data": {
      "text/plain": [
       "'avinashjha'"
      ]
     },
     "execution_count": 27,
     "metadata": {},
     "output_type": "execute_result"
    }
   ],
   "source": [
    "\"avinash\" + \"jha\""
   ]
  },
  {
   "cell_type": "code",
   "execution_count": 29,
   "id": "85117802",
   "metadata": {},
   "outputs": [
    {
     "data": {
      "text/plain": [
       "23.2"
      ]
     },
     "execution_count": 29,
     "metadata": {},
     "output_type": "execute_result"
    }
   ],
   "source": [
    "22.2+1 #Mathematically possible due to this possible not giving error"
   ]
  },
  {
   "cell_type": "code",
   "execution_count": 30,
   "id": "86777e69",
   "metadata": {},
   "outputs": [
    {
     "name": "stdout",
     "output_type": "stream",
     "text": [
      "1 1.2 avinash (1+3j)\n"
     ]
    }
   ],
   "source": [
    "a = 1 #int data type\n",
    "b = 1.2 #float data type\n",
    "c = \"avinash\" #string data type\n",
    "d = 1+3j #complex data type\n",
    "print((a), (b), (c), (d))"
   ]
  },
  {
   "cell_type": "code",
   "execution_count": 31,
   "id": "ef04cb2e",
   "metadata": {},
   "outputs": [
    {
     "name": "stdout",
     "output_type": "stream",
     "text": [
      "<class 'int'> <class 'float'> <class 'str'> <class 'complex'>\n"
     ]
    }
   ],
   "source": [
    "a = 1 #int data type\n",
    "b = 1.2 #float data type\n",
    "c = \"avinash\" #string data type\n",
    "d = 1+3j #complex data type\n",
    "print(type(a), type(b), type(c), type(d))"
   ]
  },
  {
   "cell_type": "code",
   "execution_count": 32,
   "id": "97d3c0fe",
   "metadata": {},
   "outputs": [
    {
     "name": "stdout",
     "output_type": "stream",
     "text": [
      "<class 'int'>\n",
      "<class 'float'>\n",
      "<class 'str'>\n",
      "<class 'complex'>\n"
     ]
    }
   ],
   "source": [
    "a = 1 #int data type\n",
    "b = 1.2 #float data type\n",
    "c = \"avinash\" #string data type\n",
    "d = 1+3j #complex data type\n",
    "print(type(a))\n",
    "print(type(b))\n",
    "print(type(c))\n",
    "print(type(d))"
   ]
  },
  {
   "cell_type": "code",
   "execution_count": 38,
   "id": "1b49f828",
   "metadata": {},
   "outputs": [
    {
     "name": "stdout",
     "output_type": "stream",
     "text": [
      "hi welcome to class of java language\n"
     ]
    }
   ],
   "source": [
    "language = \"java\"\n",
    "print(\"hi welcome to class of \" +language+ \" language\")"
   ]
  },
  {
   "cell_type": "code",
   "execution_count": 39,
   "id": "c520c7f6",
   "metadata": {},
   "outputs": [
    {
     "name": "stdout",
     "output_type": "stream",
     "text": [
      "hi welcome to class of javascript language\n"
     ]
    }
   ],
   "source": [
    "language = \"javascript\"\n",
    "print(\"hi welcome to class of \" +language+ \" language\")"
   ]
  },
  {
   "cell_type": "code",
   "execution_count": 40,
   "id": "4c2d893f",
   "metadata": {},
   "outputs": [
    {
     "name": "stdout",
     "output_type": "stream",
     "text": [
      "hi welcome to class of python language\n"
     ]
    }
   ],
   "source": [
    "language = \"python\"\n",
    "print(\"hi welcome to class of \" +language+ \" language\") # Allowed but rarerly used"
   ]
  },
  {
   "cell_type": "code",
   "execution_count": 41,
   "id": "301b2655",
   "metadata": {},
   "outputs": [
    {
     "name": "stdout",
     "output_type": "stream",
     "text": [
      "hi welcome to class of java language\n"
     ]
    }
   ],
   "source": [
    "language = \"java\"\n",
    "print(f\"hi welcome to class of {language} language\") #current standard approach used in python"
   ]
  },
  {
   "cell_type": "code",
   "execution_count": 42,
   "id": "805f738e",
   "metadata": {},
   "outputs": [
    {
     "name": "stdout",
     "output_type": "stream",
     "text": [
      "hi welcome to class of javascript language\n"
     ]
    }
   ],
   "source": [
    "language = \"javascript\"\n",
    "print(f\"hi welcome to class of {language} language\")"
   ]
  },
  {
   "cell_type": "code",
   "execution_count": 44,
   "id": "49e84fd3",
   "metadata": {},
   "outputs": [
    {
     "name": "stdout",
     "output_type": "stream",
     "text": [
      "hi welcome to class of javascript language\n"
     ]
    }
   ],
   "source": [
    "language = \"javascript\"\n",
    "print(\"hi welcome to class of {} language\".format(language)) #OLD WAY"
   ]
  },
  {
   "cell_type": "markdown",
   "id": "53a33d35",
   "metadata": {},
   "source": [
    "# f -->> Formatted string method"
   ]
  },
  {
   "cell_type": "code",
   "execution_count": 45,
   "id": "51144ec7",
   "metadata": {},
   "outputs": [
    {
     "name": "stdout",
     "output_type": "stream",
     "text": [
      "today is the first to class of javascript language\n"
     ]
    }
   ],
   "source": [
    "num = 'first'\n",
    "language = \"javascript\"\n",
    "print(f\"today is the {num} to class of {language} language\")"
   ]
  },
  {
   "cell_type": "code",
   "execution_count": 46,
   "id": "a3794b3f",
   "metadata": {},
   "outputs": [
    {
     "ename": "SyntaxError",
     "evalue": "f-string: empty expression not allowed (63642384.py, line 3)",
     "output_type": "error",
     "traceback": [
      "\u001b[1;36m  Input \u001b[1;32mIn [46]\u001b[1;36m\u001b[0m\n\u001b[1;33m    print(f\"today is the {} to class of {} language\".format(num, language))\u001b[0m\n\u001b[1;37m                                                    ^\u001b[0m\n\u001b[1;31mSyntaxError\u001b[0m\u001b[1;31m:\u001b[0m f-string: empty expression not allowed\n"
     ]
    }
   ],
   "source": [
    "num = 'first'\n",
    "language = \"javascript\"\n",
    "print(f\"today is the {} to class of {} language\".format(num, language))"
   ]
  },
  {
   "cell_type": "code",
   "execution_count": 47,
   "id": "7b14815a",
   "metadata": {},
   "outputs": [
    {
     "name": "stdout",
     "output_type": "stream",
     "text": [
      "today is the first to class of javascript language\n"
     ]
    }
   ],
   "source": [
    "num = 'first'\n",
    "language = \"javascript\"\n",
    "print(\"today is the {} to class of {} language\".format(num, language))"
   ]
  },
  {
   "cell_type": "code",
   "execution_count": 48,
   "id": "3576407f",
   "metadata": {},
   "outputs": [
    {
     "name": "stdout",
     "output_type": "stream",
     "text": [
      "the result sum of two nums a: 22 and b: 34 is c = 56\n"
     ]
    }
   ],
   "source": [
    "a = 22\n",
    "b = 34\n",
    "c = a + b\n",
    "print(f\"the result sum of two nums a: {a} and b: {b} is c = {c}\")"
   ]
  },
  {
   "cell_type": "markdown",
   "id": "3cd55d2c",
   "metadata": {},
   "source": [
    "# 4. Boolean data type"
   ]
  },
  {
   "cell_type": "code",
   "execution_count": 1,
   "id": "ce2e332e",
   "metadata": {},
   "outputs": [
    {
     "ename": "NameError",
     "evalue": "name 'true' is not defined",
     "output_type": "error",
     "traceback": [
      "\u001b[1;31m---------------------------------------------------------------------------\u001b[0m",
      "\u001b[1;31mNameError\u001b[0m                                 Traceback (most recent call last)",
      "Input \u001b[1;32mIn [1]\u001b[0m, in \u001b[0;36m<cell line: 1>\u001b[1;34m()\u001b[0m\n\u001b[1;32m----> 1\u001b[0m a \u001b[38;5;241m=\u001b[39m \u001b[43mtrue\u001b[49m\n\u001b[0;32m      2\u001b[0m b \u001b[38;5;241m=\u001b[39m false\n\u001b[0;32m      3\u001b[0m \u001b[38;5;28mprint\u001b[39m(\u001b[38;5;28mtype\u001b[39m(one))\n",
      "\u001b[1;31mNameError\u001b[0m: name 'true' is not defined"
     ]
    }
   ],
   "source": [
    "a = true\n",
    "b = false\n",
    "print(type(one))\n",
    "print(type(two))"
   ]
  },
  {
   "cell_type": "code",
   "execution_count": 2,
   "id": "e4799e22",
   "metadata": {},
   "outputs": [
    {
     "ename": "NameError",
     "evalue": "name 'true' is not defined",
     "output_type": "error",
     "traceback": [
      "\u001b[1;31m---------------------------------------------------------------------------\u001b[0m",
      "\u001b[1;31mNameError\u001b[0m                                 Traceback (most recent call last)",
      "Input \u001b[1;32mIn [2]\u001b[0m, in \u001b[0;36m<cell line: 1>\u001b[1;34m()\u001b[0m\n\u001b[1;32m----> 1\u001b[0m a \u001b[38;5;241m=\u001b[39m \u001b[43mtrue\u001b[49m\n\u001b[0;32m      2\u001b[0m b \u001b[38;5;241m=\u001b[39m false\n",
      "\u001b[1;31mNameError\u001b[0m: name 'true' is not defined"
     ]
    }
   ],
   "source": [
    "a = true\n",
    "b = false"
   ]
  },
  {
   "cell_type": "code",
   "execution_count": 3,
   "id": "f48d5aff",
   "metadata": {},
   "outputs": [
    {
     "ename": "NameError",
     "evalue": "name 'true' is not defined",
     "output_type": "error",
     "traceback": [
      "\u001b[1;31m---------------------------------------------------------------------------\u001b[0m",
      "\u001b[1;31mNameError\u001b[0m                                 Traceback (most recent call last)",
      "Input \u001b[1;32mIn [3]\u001b[0m, in \u001b[0;36m<cell line: 1>\u001b[1;34m()\u001b[0m\n\u001b[1;32m----> 1\u001b[0m a \u001b[38;5;241m=\u001b[39m \u001b[43mtrue\u001b[49m\n",
      "\u001b[1;31mNameError\u001b[0m: name 'true' is not defined"
     ]
    }
   ],
   "source": [
    "a = true"
   ]
  },
  {
   "cell_type": "code",
   "execution_count": 4,
   "id": "d3771c4a",
   "metadata": {},
   "outputs": [
    {
     "ename": "NameError",
     "evalue": "name 'true' is not defined",
     "output_type": "error",
     "traceback": [
      "\u001b[1;31m---------------------------------------------------------------------------\u001b[0m",
      "\u001b[1;31mNameError\u001b[0m                                 Traceback (most recent call last)",
      "Input \u001b[1;32mIn [4]\u001b[0m, in \u001b[0;36m<cell line: 1>\u001b[1;34m()\u001b[0m\n\u001b[1;32m----> 1\u001b[0m one \u001b[38;5;241m=\u001b[39m \u001b[43mtrue\u001b[49m\n",
      "\u001b[1;31mNameError\u001b[0m: name 'true' is not defined"
     ]
    }
   ],
   "source": [
    "one = true"
   ]
  },
  {
   "cell_type": "code",
   "execution_count": 5,
   "id": "4a1e4cb5",
   "metadata": {},
   "outputs": [
    {
     "ename": "NameError",
     "evalue": "name 'ture' is not defined",
     "output_type": "error",
     "traceback": [
      "\u001b[1;31m---------------------------------------------------------------------------\u001b[0m",
      "\u001b[1;31mNameError\u001b[0m                                 Traceback (most recent call last)",
      "Input \u001b[1;32mIn [5]\u001b[0m, in \u001b[0;36m<cell line: 1>\u001b[1;34m()\u001b[0m\n\u001b[1;32m----> 1\u001b[0m one \u001b[38;5;241m=\u001b[39m \u001b[43mture\u001b[49m\n",
      "\u001b[1;31mNameError\u001b[0m: name 'ture' is not defined"
     ]
    }
   ],
   "source": [
    "one = ture"
   ]
  },
  {
   "cell_type": "code",
   "execution_count": 7,
   "id": "d0a61d14",
   "metadata": {},
   "outputs": [
    {
     "name": "stdout",
     "output_type": "stream",
     "text": [
      "<class 'bool'>\n",
      "<class 'bool'>\n"
     ]
    }
   ],
   "source": [
    "a = True\n",
    "b = False\n",
    "print(type(a))\n",
    "print(type(b))"
   ]
  },
  {
   "cell_type": "code",
   "execution_count": 8,
   "id": "edfd9f43",
   "metadata": {},
   "outputs": [
    {
     "name": "stdout",
     "output_type": "stream",
     "text": [
      "you understood every thing? : False\n"
     ]
    }
   ],
   "source": [
    "class_starts_at = 15\n",
    "you_came_at = 16\n",
    "you_understood_all_the_concepts = you_came_at < class_starts_at\n",
    "\n",
    "print(f\"you understood every thing? : {you_understood_all_the_concepts}\")"
   ]
  },
  {
   "cell_type": "code",
   "execution_count": 9,
   "id": "87f84c2e",
   "metadata": {},
   "outputs": [
    {
     "name": "stdout",
     "output_type": "stream",
     "text": [
      "you understood every thing? : True\n"
     ]
    }
   ],
   "source": [
    "class_starts_at = 15\n",
    "you_came_at = 14\n",
    "you_understood_all_the_concepts = you_came_at < class_starts_at\n",
    "\n",
    "print(f\"you understood every thing? : {you_understood_all_the_concepts}\")"
   ]
  },
  {
   "cell_type": "code",
   "execution_count": 10,
   "id": "43cf4ec4",
   "metadata": {},
   "outputs": [
    {
     "name": "stdout",
     "output_type": "stream",
     "text": [
      "you understood every thing? : False\n"
     ]
    }
   ],
   "source": [
    "class_starts_at = 15\n",
    "you_came_at = 15\n",
    "you_understood_all_the_concepts = you_came_at < class_starts_at\n",
    "\n",
    "print(f\"you understood every thing? : {you_understood_all_the_concepts}\")"
   ]
  },
  {
   "cell_type": "code",
   "execution_count": 11,
   "id": "7a7b9091",
   "metadata": {},
   "outputs": [
    {
     "name": "stdout",
     "output_type": "stream",
     "text": [
      "you understood every thing? : True\n"
     ]
    }
   ],
   "source": [
    "class_starts_at = 15\n",
    "you_came_at = 15\n",
    "you_understood_all_the_concepts = you_came_at <= class_starts_at\n",
    "\n",
    "print(f\"you understood every thing? : {you_understood_all_the_concepts}\")"
   ]
  },
  {
   "cell_type": "code",
   "execution_count": null,
   "id": "065e0120",
   "metadata": {},
   "outputs": [],
   "source": []
  }
 ],
 "metadata": {
  "kernelspec": {
   "display_name": "Python 3 (ipykernel)",
   "language": "python",
   "name": "python3"
  },
  "language_info": {
   "codemirror_mode": {
    "name": "ipython",
    "version": 3
   },
   "file_extension": ".py",
   "mimetype": "text/x-python",
   "name": "python",
   "nbconvert_exporter": "python",
   "pygments_lexer": "ipython3",
   "version": "3.9.12"
  }
 },
 "nbformat": 4,
 "nbformat_minor": 5
}
